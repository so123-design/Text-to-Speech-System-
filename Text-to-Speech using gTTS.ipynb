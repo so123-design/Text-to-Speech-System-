{
 "cells": [
  {
   "cell_type": "markdown",
   "id": "f0cc1612",
   "metadata": {},
   "source": [
    "# Text-to-Speech using gTTS\n",
    "\n",
    "### Overview\n",
    "This project is a simple **Text-to-Speech (TTS) application** built using Python. It reads text from files and converts it to speech using the Google Text-to-Speech (gTTS) library. The program also has a graphical user interface (GUI) built with Tkinter, allowing users to play the audio files by clicking buttons. \n",
    "\n",
    "### Technologies Used\n",
    "- **Python**: The programming language used for this project.\n",
    "- **gTTS (Google Text-to-Speech)**: A Python library and interface for Google’s TTS API, which converts text into spoken language.\n",
    "- **Tkinter**: A standard Python library for building graphical user interfaces."
   ]
  },
  {
   "cell_type": "markdown",
   "id": "e7a8f060",
   "metadata": {},
   "source": [
    "### Installation\n",
    "Before running the program, install the required library:"
   ]
  },
  {
   "cell_type": "code",
   "execution_count": 1,
   "id": "55a51948",
   "metadata": {},
   "outputs": [
    {
     "name": "stdout",
     "output_type": "stream",
     "text": [
      "Requirement already satisfied: gTTS in c:\\users\\admin\\sam\\lib\\site-packages (2.5.3)\n",
      "Requirement already satisfied: click<8.2,>=7.1 in c:\\users\\admin\\appdata\\roaming\\python\\python310\\site-packages (from gTTS) (8.1.7)\n",
      "Requirement already satisfied: requests<3,>=2.27 in c:\\users\\admin\\sam\\lib\\site-packages (from gTTS) (2.28.1)\n",
      "Requirement already satisfied: colorama in c:\\users\\admin\\sam\\lib\\site-packages (from click<8.2,>=7.1->gTTS) (0.4.6)\n",
      "Requirement already satisfied: idna<4,>=2.5 in c:\\users\\admin\\sam\\lib\\site-packages (from requests<3,>=2.27->gTTS) (2.10)\n",
      "Requirement already satisfied: urllib3<1.27,>=1.21.1 in c:\\users\\admin\\sam\\lib\\site-packages (from requests<3,>=2.27->gTTS) (1.26.14)\n",
      "Requirement already satisfied: charset-normalizer<3,>=2 in c:\\users\\admin\\sam\\lib\\site-packages (from requests<3,>=2.27->gTTS) (2.0.4)\n",
      "Requirement already satisfied: certifi>=2017.4.17 in c:\\users\\admin\\sam\\lib\\site-packages (from requests<3,>=2.27->gTTS) (2024.8.30)\n",
      "Note: you may need to restart the kernel to use updated packages.\n"
     ]
    },
    {
     "name": "stderr",
     "output_type": "stream",
     "text": [
      "WARNING: Ignoring invalid distribution -illow (c:\\users\\admin\\sam\\lib\\site-packages)\n",
      "WARNING: Ignoring invalid distribution -ensorflow-intel (c:\\users\\admin\\sam\\lib\\site-packages)\n",
      "WARNING: Ignoring invalid distribution -illow (c:\\users\\admin\\sam\\lib\\site-packages)\n",
      "WARNING: Ignoring invalid distribution -ensorflow-intel (c:\\users\\admin\\sam\\lib\\site-packages)\n",
      "WARNING: Ignoring invalid distribution -illow (c:\\users\\admin\\sam\\lib\\site-packages)\n",
      "WARNING: Ignoring invalid distribution -ensorflow-intel (c:\\users\\admin\\sam\\lib\\site-packages)\n",
      "WARNING: Ignoring invalid distribution -illow (c:\\users\\admin\\sam\\lib\\site-packages)\n",
      "WARNING: Ignoring invalid distribution -ensorflow-intel (c:\\users\\admin\\sam\\lib\\site-packages)\n",
      "WARNING: Ignoring invalid distribution -illow (c:\\users\\admin\\sam\\lib\\site-packages)\n",
      "WARNING: Ignoring invalid distribution -ensorflow-intel (c:\\users\\admin\\sam\\lib\\site-packages)\n",
      "WARNING: Ignoring invalid distribution -illow (c:\\users\\admin\\sam\\lib\\site-packages)\n",
      "WARNING: Ignoring invalid distribution -ensorflow-intel (c:\\users\\admin\\sam\\lib\\site-packages)\n"
     ]
    }
   ],
   "source": [
    "pip install gTTS"
   ]
  },
  {
   "cell_type": "markdown",
   "id": "71923898",
   "metadata": {},
   "source": [
    "### Code Explanation\n",
    "\n",
    "The project is organized into distinct sections: reading the text files, defining the TTS class, creating GUI elements, and handling button interactions.\n"
   ]
  },
  {
   "cell_type": "code",
   "execution_count": 1,
   "id": "adcb6572",
   "metadata": {},
   "outputs": [],
   "source": [
    "# Importing necessary libraries\n",
    "from gtts import gTTS  # Google Text-to-Speech library\n",
    "from tkinter import *  # Tkinter library for GUI components\n",
    "import os  # OS library to interact with the operating system"
   ]
  },
  {
   "cell_type": "markdown",
   "id": "81153853",
   "metadata": {},
   "source": [
    "### 1. Reading Text from Files\n",
    "The program reads content from two text files, `file1.txt` and `file2.txt`. Each file contains text that will be converted to speech when the corresponding button is clicked.\n"
   ]
  },
  {
   "cell_type": "code",
   "execution_count": 2,
   "id": "7c03bc29",
   "metadata": {},
   "outputs": [],
   "source": [
    "# Initialize variables to store text content from files\n",
    "fileText = ''\n",
    "fileText2 = ''\n",
    "\n",
    "# Read content from 'file1.txt'\n",
    "with open('file1.txt', 'r') as file1:\n",
    "    fileText = file1.read()\n",
    "\n",
    "# Read content from 'file2.txt'\n",
    "with open('file2.txt', 'r') as file2:\n",
    "    fileText2 = file2.read()"
   ]
  },
  {
   "cell_type": "markdown",
   "id": "4d4f255d",
   "metadata": {},
   "source": [
    "\n",
    "- **Purpose**: This section reads the contents of `file1.txt` and `file2.txt` and stores the text in `fileText` and `fileText2` respectively.\n",
    "- **Explanation**: The `with open(...)` syntax ensures files are properly closed after reading, which is good practice in file handling.\n"
   ]
  },
  {
   "cell_type": "markdown",
   "id": "67ea6fc3",
   "metadata": {},
   "source": [
    "---\n",
    "\n",
    "### 2. Creating the TextToSpeech Class\n",
    "The `TextToSpeech` class is designed to handle the conversion of text to speech."
   ]
  },
  {
   "cell_type": "code",
   "execution_count": 3,
   "id": "1016c599",
   "metadata": {},
   "outputs": [],
   "source": [
    "class TextToSpeech:\n",
    "    def __init__(self, text, lang, filename):\n",
    "        self.text = text        # Text to be converted to speech\n",
    "        self.lang = lang        # Language code for speech\n",
    "        self.filename = filename  # Filename for the generated audio file\n",
    "    \n",
    "    def speak(self):\n",
    "        # Convert text to speech using gTTS\n",
    "        text = gTTS(self.text, lang=self.lang, slow=False)\n",
    "        # Save the speech as an MP3 file\n",
    "        text.save(f\"{self.filename}.mp3\")\n",
    "        # Play the audio file\n",
    "        os.system(f\"start {self.filename}.mp3\")"
   ]
  },
  {
   "cell_type": "markdown",
   "id": "b4c1aceb",
   "metadata": {},
   "source": [
    "- **`__init__` Method**: Initializes each instance with the text, language, and filename.\n",
    "- **`speak` Method**: Uses `gTTS` to create an MP3 file from the text and plays it using the operating system’s media player."
   ]
  },
  {
   "cell_type": "markdown",
   "id": "d804076e",
   "metadata": {},
   "source": [
    "---\n",
    "\n",
    "### 3. Instantiating the TextToSpeech Objects\n",
    "The `TextToSpeech` class is instantiated twice, each with different text and filenames. \n",
    "\n",
    "\n",
    "\n",
    "\n"
   ]
  },
  {
   "cell_type": "code",
   "execution_count": 4,
   "id": "380620a2",
   "metadata": {},
   "outputs": [],
   "source": [
    "person1 = TextToSpeech(fileText, \"en\", \"Sam\")  # English speech for text in file1.txt\n",
    "person2 = TextToSpeech(fileText2, \"en\", \"Samy\")  # English speech for text in file2.txt"
   ]
  },
  {
   "cell_type": "markdown",
   "id": "db12f73a",
   "metadata": {},
   "source": [
    "- **Explanation**: `person1` and `person2` are created to represent two \"speakers,\" each with their own text and filename. When `speak()` is called, an audio file with the respective filename will be created and played.\n",
    "\n",
    "---"
   ]
  },
  {
   "cell_type": "markdown",
   "id": "9f40e234",
   "metadata": {},
   "source": [
    "### 4. Building the GUI with Tkinter\n",
    "A simple Tkinter window is created with buttons for each text-to-speech instance."
   ]
  },
  {
   "cell_type": "code",
   "execution_count": 5,
   "id": "be9af83a",
   "metadata": {},
   "outputs": [],
   "source": [
    "# Create the main application window\n",
    "window = Tk()\n",
    "window.title(\"Text To Speech\")\n",
    "\n",
    "# Create a Canvas for organizing the layout\n",
    "canvas = Canvas(window, width=300, height=300)\n",
    "canvas.pack()"
   ]
  },
  {
   "cell_type": "markdown",
   "id": "dddfc105",
   "metadata": {},
   "source": [
    "- **Explanation**: `Tk()` initializes the main window, and `Canvas` allows for more control over the button placements.\n",
    "\n",
    "---"
   ]
  },
  {
   "cell_type": "markdown",
   "id": "a0ac6d80",
   "metadata": {},
   "source": [
    "### 5. Adding Buttons to Trigger Text-to-Speech\n",
    "Buttons are added to the canvas, each linked to the `speak()` method of the corresponding `TextToSpeech` instance.\n"
   ]
  },
  {
   "cell_type": "code",
   "execution_count": 6,
   "id": "e46ea18f",
   "metadata": {},
   "outputs": [],
   "source": [
    "# Button for person1's speech\n",
    "button1 = Button(window, text=person1.filename, command=person1.speak, padx=20, pady=7)\n",
    "button_win1 = canvas.create_window(150, 150, window=button1)\n",
    "\n"
   ]
  },
  {
   "cell_type": "code",
   "execution_count": 7,
   "id": "832ba80f",
   "metadata": {},
   "outputs": [],
   "source": [
    "# Button for person2's speech\n",
    "button2 = Button(window, text=person2.filename, command=person2.speak, padx=20, pady=7)\n",
    "button_win2 = canvas.create_window(150, 200, window=button2)"
   ]
  },
  {
   "cell_type": "markdown",
   "id": "3c39e379",
   "metadata": {},
   "source": [
    "- **Explanation**: Each button is labeled with the name (i.e., `person1.filename` or `person2.filename`) and linked to the `speak()` method of its respective instance. When clicked, each button will call `speak()` to generate and play the corresponding audio file.\n",
    "\n",
    "---"
   ]
  },
  {
   "cell_type": "markdown",
   "id": "e6fc86e4",
   "metadata": {},
   "source": [
    "### 6. Running the Application\n",
    "The `mainloop()` method keeps the window open and responsive, waiting for user interactions."
   ]
  },
  {
   "cell_type": "code",
   "execution_count": 8,
   "id": "e35cebd9",
   "metadata": {},
   "outputs": [],
   "source": [
    "window.mainloop()"
   ]
  },
  {
   "cell_type": "markdown",
   "id": "a8300124",
   "metadata": {},
   "source": [
    "- **Explanation**: `mainloop()` starts the Tkinter event loop, allowing the GUI to remain open and responsive to button clicks.\n",
    "\n",
    "---"
   ]
  },
  {
   "cell_type": "markdown",
   "id": "c3d87557",
   "metadata": {},
   "source": [
    "### Summary\n",
    "This project demonstrates how to:\n",
    "- Read text from files.\n",
    "- Convert text to audio using `gTTS`.\n",
    "- Create a simple, interactive GUI with Tkinter.\n",
    "\n",
    "**Project Highlights**:\n",
    "- Showcases skills in text processing, file handling, and GUI design.\n",
    "- Demonstrates the integration of external libraries (`gTTS` and `Tkinter`).\n",
    "- Provides an interactive, user-friendly interface.\n",
    "\n",
    "This TTS application is a practical example of how Python can be used to create accessible, multimedia projects."
   ]
  },
  {
   "cell_type": "code",
   "execution_count": null,
   "id": "886aceb5",
   "metadata": {},
   "outputs": [],
   "source": []
  }
 ],
 "metadata": {
  "kernelspec": {
   "display_name": "Python 3 (ipykernel)",
   "language": "python",
   "name": "python3"
  },
  "language_info": {
   "codemirror_mode": {
    "name": "ipython",
    "version": 3
   },
   "file_extension": ".py",
   "mimetype": "text/x-python",
   "name": "python",
   "nbconvert_exporter": "python",
   "pygments_lexer": "ipython3",
   "version": "3.10.9"
  }
 },
 "nbformat": 4,
 "nbformat_minor": 5
}
