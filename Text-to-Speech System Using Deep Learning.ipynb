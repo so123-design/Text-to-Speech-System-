{
 "cells": [
  {
   "cell_type": "markdown",
   "metadata": {},
   "source": [
    "---\n",
    "\n",
    "# **Text-to-Speech System Using Deep Learning**\n",
    "\n",
    "## **Introduction**\n",
    "This project implements a basic **Text-to-Speech (TTS)** system, which converts textual input into audio waveforms. It uses a deep learning-based approach to predict mel spectrograms from text sequences. The mel spectrograms are then converted into audio waveforms using a vocoder. This system is a simplified demonstration of TTS pipelines, such as those found in speech synthesis systems like Tacotron.\n",
    "\n",
    "### **Objective**\n",
    "To design a neural network that maps textual input to audio output by predicting mel spectrograms, which are then converted into audible speech.\n",
    "\n",
    "---"
   ]
  },
  {
   "cell_type": "markdown",
   "metadata": {},
   "source": [
    "## **Project Components**\n",
    "\n",
    "### **1. Dataset Preparation**\n",
    "To demonstrate the TTS pipeline, a **dummy dataset** is generated, consisting of:\n",
    "- **Text Data**: Random sequences of integers representing characters or phonemes.\n",
    "- **Audio Data**: Randomly generated waveforms.\n",
    "This setup simulates real-world data while focusing on the model and methodology."
   ]
  },
  {
   "cell_type": "code",
   "execution_count": 1,
   "metadata": {
    "execution": {
     "iopub.execute_input": "2024-12-14T09:33:10.152800Z",
     "iopub.status.busy": "2024-12-14T09:33:10.152373Z",
     "iopub.status.idle": "2024-12-14T09:33:26.877851Z",
     "shell.execute_reply": "2024-12-14T09:33:26.876732Z",
     "shell.execute_reply.started": "2024-12-14T09:33:10.152761Z"
    }
   },
   "outputs": [],
   "source": [
    "import tensorflow as tf\n",
    "from tensorflow.keras.layers import Input, Embedding, Conv1D, GRU, Dense, BatchNormalization, ReLU, Flatten\n",
    "from tensorflow.keras.models import Model\n",
    "import numpy as np\n",
    "import librosa\n",
    "import librosa.display\n",
    "import matplotlib.pyplot as plt"
   ]
  },
  {
   "cell_type": "code",
   "execution_count": 2,
   "metadata": {
    "execution": {
     "iopub.execute_input": "2024-12-14T09:33:42.874542Z",
     "iopub.status.busy": "2024-12-14T09:33:42.874132Z",
     "iopub.status.idle": "2024-12-14T09:33:43.087192Z",
     "shell.execute_reply": "2024-12-14T09:33:43.086119Z",
     "shell.execute_reply.started": "2024-12-14T09:33:42.874510Z"
    }
   },
   "outputs": [],
   "source": [
    "# Step 1: Dataset Preparation (Dummy Dataset)\n",
    "# Replace this with a real TTS dataset\n",
    "def generate_dummy_data(num_samples=1000, max_text_len=30, audio_len=16000):\n",
    "    # Generate dummy text data (character sequences as integers)\n",
    "    text_data = np.random.randint(1, 50, size=(num_samples, max_text_len))  # Replace with real text preprocessing\n",
    "    # Generate dummy audio data (waveform samples)\n",
    "    audio_data = np.random.rand(num_samples, audio_len).astype(np.float32)\n",
    "    return text_data, audio_data\n",
    "\n",
    "text_data, audio_data = generate_dummy_data()"
   ]
  },
  {
   "cell_type": "markdown",
   "metadata": {},
   "source": [
    "### **2. Text Preprocessing**\n",
    "The textual input is processed into sequences and embedded using an embedding layer. The vocabulary size and embedding dimension are configurable."
   ]
  },
  {
   "cell_type": "code",
   "execution_count": 3,
   "metadata": {
    "execution": {
     "iopub.execute_input": "2024-12-14T09:33:47.824925Z",
     "iopub.status.busy": "2024-12-14T09:33:47.824037Z",
     "iopub.status.idle": "2024-12-14T09:33:47.829426Z",
     "shell.execute_reply": "2024-12-14T09:33:47.828274Z",
     "shell.execute_reply.started": "2024-12-14T09:33:47.824884Z"
    }
   },
   "outputs": [],
   "source": [
    "# Step 2: Text Preprocessing\n",
    "# Convert text to sequences and create embeddings\n",
    "vocab_size = 50  # Number of unique characters or phonemes\n",
    "embedding_dim = 128"
   ]
  },
  {
   "cell_type": "markdown",
   "metadata": {},
   "source": [
    "### **3. Audio Preprocessing**\n",
    "The audio waveforms are transformed into **mel spectrograms**, which are 2D representations of frequency vs. time. \n",
    "- **Mel Spectrogram Conversion**: Converts waveforms into a time-frequency representation.\n",
    "- **Padding/Truncation**: Ensures fixed dimensions for the neural network input."
   ]
  },
  {
   "cell_type": "code",
   "execution_count": 7,
   "metadata": {
    "execution": {
     "iopub.execute_input": "2024-12-14T09:42:03.759426Z",
     "iopub.status.busy": "2024-12-14T09:42:03.758955Z",
     "iopub.status.idle": "2024-12-14T09:42:14.201658Z",
     "shell.execute_reply": "2024-12-14T09:42:14.200001Z",
     "shell.execute_reply.started": "2024-12-14T09:42:03.759389Z"
    }
   },
   "outputs": [
    {
     "name": "stdout",
     "output_type": "stream",
     "text": [
      "Text data shape: (1000, 30)\n",
      "Mel-spectrogram shape: (1000, 30, 80)\n"
     ]
    }
   ],
   "source": [
    "# Step 3: Audio Preprocessing\n",
    "# Convert audio waveforms to mel-spectrograms\n",
    "def waveform_to_melspectrogram(waveform, sr=22050, n_mels=80):\n",
    "    mel_spectrogram = librosa.feature.melspectrogram(y=waveform, sr=sr, n_mels=n_mels)\n",
    "    mel_spectrogram_db = librosa.power_to_db(mel_spectrogram, ref=np.max)\n",
    "    return mel_spectrogram_db.T  # Transpose to match time-major format\n",
    "    \n",
    "def preprocess_audio(audio_data, sr=22050, n_mels=80, fixed_time_steps=30):\n",
    "    mel_specs = [waveform_to_melspectrogram(waveform, sr, n_mels) for waveform in audio_data]\n",
    "    # Pad or truncate mel-spectrograms to `fixed_time_steps`\n",
    "    processed_mel_specs = np.array([\n",
    "        np.pad(mel, ((0, max(0, fixed_time_steps - mel.shape[0])), (0, 0)), mode='constant')[:fixed_time_steps]\n",
    "        for mel in mel_specs\n",
    "    ])\n",
    "    return processed_mel_specs\n",
    "\n",
    "mel_spectrograms = preprocess_audio(audio_data, fixed_time_steps=text_data.shape[1])  # Match text sequence length\n",
    "\n",
    "\n",
    "# Verify Data Shapes\n",
    "print(\"Text data shape:\", text_data.shape)  # (num_samples, max_text_len)\n",
    "print(\"Mel-spectrogram shape:\", mel_spectrograms.shape)  # (num_samples, time_steps, n_mels)"
   ]
  },
  {
   "cell_type": "markdown",
   "metadata": {},
   "source": [
    "### **4. Model Architecture**\n",
    "The TTS model is designed to map text sequences to mel spectrograms:\n",
    "- **Input**: Text sequences represented as integers.\n",
    "- **Embedding Layer**: Converts integers into dense vector representations.\n",
    "- **Convolutional Layer**: Extracts local features from sequences.\n",
    "- **GRU Layer**: Processes sequential dependencies in the text.\n",
    "- **Dense Output Layer**: Predicts the mel spectrogram for each time step.\n",
    "- **Activation**: ReLU ensures non-linearity in the predicted spectrogram."
   ]
  },
  {
   "cell_type": "code",
   "execution_count": 8,
   "metadata": {
    "execution": {
     "iopub.execute_input": "2024-12-14T09:42:31.502508Z",
     "iopub.status.busy": "2024-12-14T09:42:31.502119Z",
     "iopub.status.idle": "2024-12-14T09:42:31.587357Z",
     "shell.execute_reply": "2024-12-14T09:42:31.586143Z",
     "shell.execute_reply.started": "2024-12-14T09:42:31.502477Z"
    }
   },
   "outputs": [
    {
     "name": "stderr",
     "output_type": "stream",
     "text": [
      "/opt/conda/lib/python3.10/site-packages/keras/src/layers/core/embedding.py:90: UserWarning: Argument `input_length` is deprecated. Just remove it.\n",
      "  warnings.warn(\n"
     ]
    }
   ],
   "source": [
    "# Step 4: Model Design\n",
    "def build_tts_model(vocab_size, embedding_dim, input_length, n_mels):\n",
    "    # Text Input\n",
    "    text_input = Input(shape=(input_length,), name=\"text_input\")\n",
    "    x = Embedding(input_dim=vocab_size, output_dim=embedding_dim, input_length=input_length)(text_input)\n",
    "    x = Conv1D(128, kernel_size=5, padding=\"same\", activation=\"relu\")(x)\n",
    "    x = BatchNormalization()(x)\n",
    "\n",
    "    # RNN to process sequential data\n",
    "    x = GRU(256, return_sequences=True)(x)\n",
    "\n",
    "    # Fully Connected Layer to predict mel-spectrogram\n",
    "    x = Dense(n_mels)(x)\n",
    "\n",
    "    # Time-step-wise activation\n",
    "    mel_output = ReLU()(x)\n",
    "\n",
    "    # Define Model\n",
    "    model = Model(inputs=text_input, outputs=mel_output, name=\"TTS_Model\")\n",
    "    return model\n",
    "\n",
    "input_length = text_data.shape[1]\n",
    "n_mels = mel_spectrograms.shape[2]\n",
    "tts_model = build_tts_model(vocab_size, embedding_dim, input_length, n_mels)"
   ]
  },
  {
   "cell_type": "markdown",
   "metadata": {},
   "source": [
    "### **5. Model Training**\n",
    "The model is compiled using the Adam optimizer and Mean Squared Error (MSE) loss function, which is suitable for regression tasks like spectrogram prediction. The training process is monitored with validation data."
   ]
  },
  {
   "cell_type": "code",
   "execution_count": 9,
   "metadata": {
    "execution": {
     "iopub.execute_input": "2024-12-14T09:42:46.946644Z",
     "iopub.status.busy": "2024-12-14T09:42:46.946235Z",
     "iopub.status.idle": "2024-12-14T09:43:09.617711Z",
     "shell.execute_reply": "2024-12-14T09:43:09.616154Z",
     "shell.execute_reply.started": "2024-12-14T09:42:46.946572Z"
    }
   },
   "outputs": [
    {
     "data": {
      "text/html": [
       "<pre style=\"white-space:pre;overflow-x:auto;line-height:normal;font-family:Menlo,'DejaVu Sans Mono',consolas,'Courier New',monospace\"><span style=\"font-weight: bold\">Model: \"TTS_Model\"</span>\n",
       "</pre>\n"
      ],
      "text/plain": [
       "\u001b[1mModel: \"TTS_Model\"\u001b[0m\n"
      ]
     },
     "metadata": {},
     "output_type": "display_data"
    },
    {
     "data": {
      "text/html": [
       "<pre style=\"white-space:pre;overflow-x:auto;line-height:normal;font-family:Menlo,'DejaVu Sans Mono',consolas,'Courier New',monospace\">┏━━━━━━━━━━━━━━━━━━━━━━━━━━━━━━━━━┳━━━━━━━━━━━━━━━━━━━━━━━━┳━━━━━━━━━━━━━━━┓\n",
       "┃<span style=\"font-weight: bold\"> Layer (type)                    </span>┃<span style=\"font-weight: bold\"> Output Shape           </span>┃<span style=\"font-weight: bold\">       Param # </span>┃\n",
       "┡━━━━━━━━━━━━━━━━━━━━━━━━━━━━━━━━━╇━━━━━━━━━━━━━━━━━━━━━━━━╇━━━━━━━━━━━━━━━┩\n",
       "│ text_input (<span style=\"color: #0087ff; text-decoration-color: #0087ff\">InputLayer</span>)         │ (<span style=\"color: #00d7ff; text-decoration-color: #00d7ff\">None</span>, <span style=\"color: #00af00; text-decoration-color: #00af00\">30</span>)             │             <span style=\"color: #00af00; text-decoration-color: #00af00\">0</span> │\n",
       "├─────────────────────────────────┼────────────────────────┼───────────────┤\n",
       "│ embedding_1 (<span style=\"color: #0087ff; text-decoration-color: #0087ff\">Embedding</span>)         │ (<span style=\"color: #00d7ff; text-decoration-color: #00d7ff\">None</span>, <span style=\"color: #00af00; text-decoration-color: #00af00\">30</span>, <span style=\"color: #00af00; text-decoration-color: #00af00\">128</span>)        │         <span style=\"color: #00af00; text-decoration-color: #00af00\">6,400</span> │\n",
       "├─────────────────────────────────┼────────────────────────┼───────────────┤\n",
       "│ conv1d_1 (<span style=\"color: #0087ff; text-decoration-color: #0087ff\">Conv1D</span>)               │ (<span style=\"color: #00d7ff; text-decoration-color: #00d7ff\">None</span>, <span style=\"color: #00af00; text-decoration-color: #00af00\">30</span>, <span style=\"color: #00af00; text-decoration-color: #00af00\">128</span>)        │        <span style=\"color: #00af00; text-decoration-color: #00af00\">82,048</span> │\n",
       "├─────────────────────────────────┼────────────────────────┼───────────────┤\n",
       "│ batch_normalization_1           │ (<span style=\"color: #00d7ff; text-decoration-color: #00d7ff\">None</span>, <span style=\"color: #00af00; text-decoration-color: #00af00\">30</span>, <span style=\"color: #00af00; text-decoration-color: #00af00\">128</span>)        │           <span style=\"color: #00af00; text-decoration-color: #00af00\">512</span> │\n",
       "│ (<span style=\"color: #0087ff; text-decoration-color: #0087ff\">BatchNormalization</span>)            │                        │               │\n",
       "├─────────────────────────────────┼────────────────────────┼───────────────┤\n",
       "│ gru_1 (<span style=\"color: #0087ff; text-decoration-color: #0087ff\">GRU</span>)                     │ (<span style=\"color: #00d7ff; text-decoration-color: #00d7ff\">None</span>, <span style=\"color: #00af00; text-decoration-color: #00af00\">30</span>, <span style=\"color: #00af00; text-decoration-color: #00af00\">256</span>)        │       <span style=\"color: #00af00; text-decoration-color: #00af00\">296,448</span> │\n",
       "├─────────────────────────────────┼────────────────────────┼───────────────┤\n",
       "│ dense_1 (<span style=\"color: #0087ff; text-decoration-color: #0087ff\">Dense</span>)                 │ (<span style=\"color: #00d7ff; text-decoration-color: #00d7ff\">None</span>, <span style=\"color: #00af00; text-decoration-color: #00af00\">30</span>, <span style=\"color: #00af00; text-decoration-color: #00af00\">80</span>)         │        <span style=\"color: #00af00; text-decoration-color: #00af00\">20,560</span> │\n",
       "├─────────────────────────────────┼────────────────────────┼───────────────┤\n",
       "│ re_lu_1 (<span style=\"color: #0087ff; text-decoration-color: #0087ff\">ReLU</span>)                  │ (<span style=\"color: #00d7ff; text-decoration-color: #00d7ff\">None</span>, <span style=\"color: #00af00; text-decoration-color: #00af00\">30</span>, <span style=\"color: #00af00; text-decoration-color: #00af00\">80</span>)         │             <span style=\"color: #00af00; text-decoration-color: #00af00\">0</span> │\n",
       "└─────────────────────────────────┴────────────────────────┴───────────────┘\n",
       "</pre>\n"
      ],
      "text/plain": [
       "┏━━━━━━━━━━━━━━━━━━━━━━━━━━━━━━━━━┳━━━━━━━━━━━━━━━━━━━━━━━━┳━━━━━━━━━━━━━━━┓\n",
       "┃\u001b[1m \u001b[0m\u001b[1mLayer (type)                   \u001b[0m\u001b[1m \u001b[0m┃\u001b[1m \u001b[0m\u001b[1mOutput Shape          \u001b[0m\u001b[1m \u001b[0m┃\u001b[1m \u001b[0m\u001b[1m      Param #\u001b[0m\u001b[1m \u001b[0m┃\n",
       "┡━━━━━━━━━━━━━━━━━━━━━━━━━━━━━━━━━╇━━━━━━━━━━━━━━━━━━━━━━━━╇━━━━━━━━━━━━━━━┩\n",
       "│ text_input (\u001b[38;5;33mInputLayer\u001b[0m)         │ (\u001b[38;5;45mNone\u001b[0m, \u001b[38;5;34m30\u001b[0m)             │             \u001b[38;5;34m0\u001b[0m │\n",
       "├─────────────────────────────────┼────────────────────────┼───────────────┤\n",
       "│ embedding_1 (\u001b[38;5;33mEmbedding\u001b[0m)         │ (\u001b[38;5;45mNone\u001b[0m, \u001b[38;5;34m30\u001b[0m, \u001b[38;5;34m128\u001b[0m)        │         \u001b[38;5;34m6,400\u001b[0m │\n",
       "├─────────────────────────────────┼────────────────────────┼───────────────┤\n",
       "│ conv1d_1 (\u001b[38;5;33mConv1D\u001b[0m)               │ (\u001b[38;5;45mNone\u001b[0m, \u001b[38;5;34m30\u001b[0m, \u001b[38;5;34m128\u001b[0m)        │        \u001b[38;5;34m82,048\u001b[0m │\n",
       "├─────────────────────────────────┼────────────────────────┼───────────────┤\n",
       "│ batch_normalization_1           │ (\u001b[38;5;45mNone\u001b[0m, \u001b[38;5;34m30\u001b[0m, \u001b[38;5;34m128\u001b[0m)        │           \u001b[38;5;34m512\u001b[0m │\n",
       "│ (\u001b[38;5;33mBatchNormalization\u001b[0m)            │                        │               │\n",
       "├─────────────────────────────────┼────────────────────────┼───────────────┤\n",
       "│ gru_1 (\u001b[38;5;33mGRU\u001b[0m)                     │ (\u001b[38;5;45mNone\u001b[0m, \u001b[38;5;34m30\u001b[0m, \u001b[38;5;34m256\u001b[0m)        │       \u001b[38;5;34m296,448\u001b[0m │\n",
       "├─────────────────────────────────┼────────────────────────┼───────────────┤\n",
       "│ dense_1 (\u001b[38;5;33mDense\u001b[0m)                 │ (\u001b[38;5;45mNone\u001b[0m, \u001b[38;5;34m30\u001b[0m, \u001b[38;5;34m80\u001b[0m)         │        \u001b[38;5;34m20,560\u001b[0m │\n",
       "├─────────────────────────────────┼────────────────────────┼───────────────┤\n",
       "│ re_lu_1 (\u001b[38;5;33mReLU\u001b[0m)                  │ (\u001b[38;5;45mNone\u001b[0m, \u001b[38;5;34m30\u001b[0m, \u001b[38;5;34m80\u001b[0m)         │             \u001b[38;5;34m0\u001b[0m │\n",
       "└─────────────────────────────────┴────────────────────────┴───────────────┘\n"
      ]
     },
     "metadata": {},
     "output_type": "display_data"
    },
    {
     "data": {
      "text/html": [
       "<pre style=\"white-space:pre;overflow-x:auto;line-height:normal;font-family:Menlo,'DejaVu Sans Mono',consolas,'Courier New',monospace\"><span style=\"font-weight: bold\"> Total params: </span><span style=\"color: #00af00; text-decoration-color: #00af00\">405,968</span> (1.55 MB)\n",
       "</pre>\n"
      ],
      "text/plain": [
       "\u001b[1m Total params: \u001b[0m\u001b[38;5;34m405,968\u001b[0m (1.55 MB)\n"
      ]
     },
     "metadata": {},
     "output_type": "display_data"
    },
    {
     "data": {
      "text/html": [
       "<pre style=\"white-space:pre;overflow-x:auto;line-height:normal;font-family:Menlo,'DejaVu Sans Mono',consolas,'Courier New',monospace\"><span style=\"font-weight: bold\"> Trainable params: </span><span style=\"color: #00af00; text-decoration-color: #00af00\">405,712</span> (1.55 MB)\n",
       "</pre>\n"
      ],
      "text/plain": [
       "\u001b[1m Trainable params: \u001b[0m\u001b[38;5;34m405,712\u001b[0m (1.55 MB)\n"
      ]
     },
     "metadata": {},
     "output_type": "display_data"
    },
    {
     "data": {
      "text/html": [
       "<pre style=\"white-space:pre;overflow-x:auto;line-height:normal;font-family:Menlo,'DejaVu Sans Mono',consolas,'Courier New',monospace\"><span style=\"font-weight: bold\"> Non-trainable params: </span><span style=\"color: #00af00; text-decoration-color: #00af00\">256</span> (1.00 KB)\n",
       "</pre>\n"
      ],
      "text/plain": [
       "\u001b[1m Non-trainable params: \u001b[0m\u001b[38;5;34m256\u001b[0m (1.00 KB)\n"
      ]
     },
     "metadata": {},
     "output_type": "display_data"
    },
    {
     "name": "stdout",
     "output_type": "stream",
     "text": [
      "Epoch 1/10\n",
      "\u001b[1m25/25\u001b[0m \u001b[32m━━━━━━━━━━━━━━━━━━━━\u001b[0m\u001b[37m\u001b[0m \u001b[1m5s\u001b[0m 92ms/step - loss: 429.1296 - mae: 20.5132 - val_loss: 428.8183 - val_mae: 20.5051\n",
      "Epoch 2/10\n",
      "\u001b[1m25/25\u001b[0m \u001b[32m━━━━━━━━━━━━━━━━━━━━\u001b[0m\u001b[37m\u001b[0m \u001b[1m2s\u001b[0m 77ms/step - loss: 428.1457 - mae: 20.4889 - val_loss: 428.8183 - val_mae: 20.5051\n",
      "Epoch 3/10\n",
      "\u001b[1m25/25\u001b[0m \u001b[32m━━━━━━━━━━━━━━━━━━━━\u001b[0m\u001b[37m\u001b[0m \u001b[1m2s\u001b[0m 77ms/step - loss: 428.5976 - mae: 20.4999 - val_loss: 428.8183 - val_mae: 20.5051\n",
      "Epoch 4/10\n",
      "\u001b[1m25/25\u001b[0m \u001b[32m━━━━━━━━━━━━━━━━━━━━\u001b[0m\u001b[37m\u001b[0m \u001b[1m2s\u001b[0m 76ms/step - loss: 428.2003 - mae: 20.4903 - val_loss: 428.8183 - val_mae: 20.5051\n",
      "Epoch 5/10\n",
      "\u001b[1m25/25\u001b[0m \u001b[32m━━━━━━━━━━━━━━━━━━━━\u001b[0m\u001b[37m\u001b[0m \u001b[1m2s\u001b[0m 80ms/step - loss: 427.9746 - mae: 20.4846 - val_loss: 428.8183 - val_mae: 20.5051\n",
      "Epoch 6/10\n",
      "\u001b[1m25/25\u001b[0m \u001b[32m━━━━━━━━━━━━━━━━━━━━\u001b[0m\u001b[37m\u001b[0m \u001b[1m2s\u001b[0m 79ms/step - loss: 428.2459 - mae: 20.4911 - val_loss: 428.8183 - val_mae: 20.5051\n",
      "Epoch 7/10\n",
      "\u001b[1m25/25\u001b[0m \u001b[32m━━━━━━━━━━━━━━━━━━━━\u001b[0m\u001b[37m\u001b[0m \u001b[1m2s\u001b[0m 74ms/step - loss: 428.4303 - mae: 20.4959 - val_loss: 428.8183 - val_mae: 20.5051\n",
      "Epoch 8/10\n",
      "\u001b[1m25/25\u001b[0m \u001b[32m━━━━━━━━━━━━━━━━━━━━\u001b[0m\u001b[37m\u001b[0m \u001b[1m2s\u001b[0m 77ms/step - loss: 427.8542 - mae: 20.4819 - val_loss: 428.8183 - val_mae: 20.5051\n",
      "Epoch 9/10\n",
      "\u001b[1m25/25\u001b[0m \u001b[32m━━━━━━━━━━━━━━━━━━━━\u001b[0m\u001b[37m\u001b[0m \u001b[1m2s\u001b[0m 76ms/step - loss: 428.3875 - mae: 20.4948 - val_loss: 428.8183 - val_mae: 20.5051\n",
      "Epoch 10/10\n",
      "\u001b[1m25/25\u001b[0m \u001b[32m━━━━━━━━━━━━━━━━━━━━\u001b[0m\u001b[37m\u001b[0m \u001b[1m2s\u001b[0m 82ms/step - loss: 428.2933 - mae: 20.4924 - val_loss: 428.8183 - val_mae: 20.5051\n"
     ]
    }
   ],
   "source": [
    "# Step 5: Compile and Train the Model\n",
    "tts_model.compile(optimizer=\"adam\", loss=\"mse\", metrics=[\"mae\"])\n",
    "tts_model.summary()\n",
    "\n",
    "# Split Data\n",
    "from sklearn.model_selection import train_test_split\n",
    "X_train, X_test, Y_train, Y_test = train_test_split(text_data, mel_spectrograms, test_size=0.2, random_state=42)\n",
    "\n",
    "# Train the Model\n",
    "history = tts_model.fit(X_train, Y_train, validation_data=(X_test, Y_test), batch_size=32, epochs=10)\n"
   ]
  },
  {
   "cell_type": "markdown",
   "metadata": {},
   "source": [
    "### **6. Audio Generation**\n",
    "The trained model is used to predict mel spectrograms from new text sequences. The spectrograms are converted back into waveforms using the **Griffin-Lim algorithm**.\n"
   ]
  },
  {
   "cell_type": "code",
   "execution_count": 19,
   "metadata": {
    "execution": {
     "iopub.execute_input": "2024-12-14T09:58:15.545462Z",
     "iopub.status.busy": "2024-12-14T09:58:15.544977Z",
     "iopub.status.idle": "2024-12-14T09:58:15.553108Z",
     "shell.execute_reply": "2024-12-14T09:58:15.551283Z",
     "shell.execute_reply.started": "2024-12-14T09:58:15.545423Z"
    }
   },
   "outputs": [],
   "source": [
    "# Step 6: Test and Generate Audio\n",
    "def generate_audio_from_text(model, text_sequence, sr=22050):\n",
    "    # Predict mel-spectrogram\n",
    "    predicted_mel = model.predict(np.array([text_sequence]))\n",
    "    predicted_mel = predicted_mel[0]  # Remove batch dimension\n",
    "\n",
    "    # Vocoder (Griffin-Lim for simplicity)\n",
    "    waveform = librosa.feature.inverse.mel_to_audio(predicted_mel.T, sr=sr)\n",
    "    return waveform, predicted_mel"
   ]
  },
  {
   "cell_type": "code",
   "execution_count": 20,
   "metadata": {
    "execution": {
     "iopub.execute_input": "2024-12-14T09:58:28.216381Z",
     "iopub.status.busy": "2024-12-14T09:58:28.215939Z",
     "iopub.status.idle": "2024-12-14T09:58:28.738284Z",
     "shell.execute_reply": "2024-12-14T09:58:28.736784Z",
     "shell.execute_reply.started": "2024-12-14T09:58:28.216332Z"
    }
   },
   "outputs": [
    {
     "name": "stdout",
     "output_type": "stream",
     "text": [
      "\u001b[1m1/1\u001b[0m \u001b[32m━━━━━━━━━━━━━━━━━━━━\u001b[0m\u001b[37m\u001b[0m \u001b[1m0s\u001b[0m 41ms/step\n"
     ]
    }
   ],
   "source": [
    "# Test on a dummy text input\n",
    "test_text = text_data[0]\n",
    "generated_waveform = generate_audio_from_text(tts_model, test_text)"
   ]
  },
  {
   "cell_type": "code",
   "execution_count": 22,
   "metadata": {
    "execution": {
     "iopub.execute_input": "2024-12-14T09:59:35.557359Z",
     "iopub.status.busy": "2024-12-14T09:59:35.556512Z",
     "iopub.status.idle": "2024-12-14T09:59:36.101345Z",
     "shell.execute_reply": "2024-12-14T09:59:36.100046Z",
     "shell.execute_reply.started": "2024-12-14T09:59:35.557302Z"
    }
   },
   "outputs": [
    {
     "name": "stdout",
     "output_type": "stream",
     "text": [
      "\u001b[1m1/1\u001b[0m \u001b[32m━━━━━━━━━━━━━━━━━━━━\u001b[0m\u001b[37m\u001b[0m \u001b[1m0s\u001b[0m 34ms/step\n"
     ]
    }
   ],
   "source": [
    "# Generate audio and capture mel-spectrogram\n",
    "generated_waveform, predicted_mel = generate_audio_from_text(tts_model, test_text)"
   ]
  },
  {
   "cell_type": "code",
   "execution_count": 23,
   "metadata": {
    "execution": {
     "iopub.execute_input": "2024-12-14T09:59:41.523112Z",
     "iopub.status.busy": "2024-12-14T09:59:41.522693Z",
     "iopub.status.idle": "2024-12-14T09:59:41.536297Z",
     "shell.execute_reply": "2024-12-14T09:59:41.535153Z",
     "shell.execute_reply.started": "2024-12-14T09:59:41.523078Z"
    }
   },
   "outputs": [
    {
     "name": "stdout",
     "output_type": "stream",
     "text": [
      "Generated audio saved to 'generated_audio.wav'\n"
     ]
    }
   ],
   "source": [
    "import soundfile as sf\n",
    "\n",
    "# Save the generated audio\n",
    "sf.write(\"generated_audio.wav\", generated_waveform, samplerate=22050)\n",
    "print(\"Generated audio saved to 'generated_audio.wav'\")\n"
   ]
  },
  {
   "cell_type": "markdown",
   "metadata": {},
   "source": [
    "\n",
    "### **7. Visualization**\n",
    "The predicted mel spectrogram is visualized using Librosa to inspect its quality.\n"
   ]
  },
  {
   "cell_type": "code",
   "execution_count": 24,
   "metadata": {
    "execution": {
     "iopub.execute_input": "2024-12-14T09:59:52.764618Z",
     "iopub.status.busy": "2024-12-14T09:59:52.763969Z",
     "iopub.status.idle": "2024-12-14T09:59:53.311105Z",
     "shell.execute_reply": "2024-12-14T09:59:53.309948Z",
     "shell.execute_reply.started": "2024-12-14T09:59:52.764554Z"
    }
   },
   "outputs": [
    {
     "data": {
      "image/png": "[encoded data removed]",
      "text/plain": [
       "<Figure size 1000x400 with 2 Axes>"
      ]
     },
     "metadata": {},
     "output_type": "display_data"
    }
   ],
   "source": [
    "# Plot Mel-Spectrogram\n",
    "plt.figure(figsize=(10, 4))\n",
    "librosa.display.specshow(predicted_mel.T, sr=22050, x_axis=\"time\", y_axis=\"mel\")\n",
    "plt.title(\"Generated Mel-Spectrogram\")\n",
    "plt.colorbar(format=\"%+2.0f dB\")\n",
    "plt.tight_layout()\n",
    "plt.show()\n"
   ]
  },
  {
   "cell_type": "markdown",
   "metadata": {},
   "source": [
    "## **Key Features**\n",
    "\n",
    "- **Text-to-Speech Pipeline**: Implements a simple TTS model with text embedding and spectrogram generation.\n",
    "- **Customizable Architecture**: The model supports configurable input dimensions, vocabulary size, and mel spectrogram settings.\n",
    "- **Audio Synthesis**: Generates realistic audio using the Griffin-Lim vocoder.\n",
    "- **Visualization**: Provides visual inspection of the generated mel spectrograms.\n",
    "\n",
    "## **Applications**\n",
    "\n",
    "- **Voice Assistants**: Basis for building conversational AI systems.\n",
    "- **Audiobook Generation**: Converts text into narrated audio.\n",
    "- **Accessibility Tools**: Helps visually impaired individuals by converting written text into speech.\n",
    "\n",
    "---"
   ]
  }
 ],
 "metadata": {
  "kaggle": {
   "accelerator": "none",
   "dataSources": [],
   "dockerImageVersionId": 30804,
   "isGpuEnabled": false,
   "isInternetEnabled": true,
   "language": "python",
   "sourceType": "notebook"
  },
  "kernelspec": {
   "display_name": "Python 3 (ipykernel)",
   "language": "python",
   "name": "python3"
  },
  "language_info": {
   "codemirror_mode": {
    "name": "ipython",
    "version": 3
   },
   "file_extension": ".py",
   "mimetype": "text/x-python",
   "name": "python",
   "nbconvert_exporter": "python",
   "pygments_lexer": "ipython3",
   "version": "3.10.9"
  }
 },
 "nbformat": 4,
 "nbformat_minor": 4
}
